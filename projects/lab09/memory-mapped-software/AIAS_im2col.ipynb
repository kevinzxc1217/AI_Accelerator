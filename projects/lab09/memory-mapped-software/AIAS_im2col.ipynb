{
  "nbformat": 4,
  "nbformat_minor": 0,
  "metadata": {
    "colab": {
      "provenance": []
    },
    "kernelspec": {
      "name": "python3",
      "display_name": "Python 3"
    },
    "language_info": {
      "name": "python"
    }
  },
  "cells": [
    {
      "cell_type": "code",
      "source": [
        "import torch\n"
      ],
      "metadata": {
        "id": "AVOUiVcFhiyh"
      },
      "execution_count": null,
      "outputs": []
    },
    {
      "cell_type": "code",
      "source": [
        "I = torch.arange(8).repeat(8, 1).repeat(2, 1, 1).unsqueeze(0)\n",
        "I = I.float()\n",
        "I"
      ],
      "metadata": {
        "colab": {
          "base_uri": "https://localhost:8080/"
        },
        "id": "j6XZ8WxonWdI",
        "outputId": "4cfc1576-f671-431d-d3ec-0feacce5ad90"
      },
      "execution_count": null,
      "outputs": [
        {
          "output_type": "execute_result",
          "data": {
            "text/plain": [
              "tensor([[[[0., 1., 2., 3., 4., 5., 6., 7.],\n",
              "          [0., 1., 2., 3., 4., 5., 6., 7.],\n",
              "          [0., 1., 2., 3., 4., 5., 6., 7.],\n",
              "          [0., 1., 2., 3., 4., 5., 6., 7.],\n",
              "          [0., 1., 2., 3., 4., 5., 6., 7.],\n",
              "          [0., 1., 2., 3., 4., 5., 6., 7.],\n",
              "          [0., 1., 2., 3., 4., 5., 6., 7.],\n",
              "          [0., 1., 2., 3., 4., 5., 6., 7.]],\n",
              "\n",
              "         [[0., 1., 2., 3., 4., 5., 6., 7.],\n",
              "          [0., 1., 2., 3., 4., 5., 6., 7.],\n",
              "          [0., 1., 2., 3., 4., 5., 6., 7.],\n",
              "          [0., 1., 2., 3., 4., 5., 6., 7.],\n",
              "          [0., 1., 2., 3., 4., 5., 6., 7.],\n",
              "          [0., 1., 2., 3., 4., 5., 6., 7.],\n",
              "          [0., 1., 2., 3., 4., 5., 6., 7.],\n",
              "          [0., 1., 2., 3., 4., 5., 6., 7.]]]])"
            ]
          },
          "metadata": {},
          "execution_count": 2
        }
      ]
    },
    {
      "cell_type": "code",
      "source": [
        "conv = torch.nn.Conv2d(in_channels=2, out_channels=1, kernel_size=2, stride=1)\n",
        "K = torch.arange(3).repeat(3, 1).repeat(2, 1, 1).unsqueeze(0)\n",
        "conv.weight.data = K.float()\n",
        "conv.bias.data = torch.zeros([conv.out_channels])\n",
        "conv.weight.data\n",
        "K = K.float()"
      ],
      "metadata": {
        "id": "ZzLjm29KoaQo"
      },
      "execution_count": null,
      "outputs": []
    },
    {
      "cell_type": "code",
      "source": [
        "result_conv2d_torch = conv(I)\n",
        "result_conv2d_torch"
      ],
      "metadata": {
        "colab": {
          "base_uri": "https://localhost:8080/"
        },
        "id": "QwN5hBuMnKLO",
        "outputId": "f849a8e8-38fa-48dd-b781-49469c9dfaaa"
      },
      "execution_count": null,
      "outputs": [
        {
          "output_type": "execute_result",
          "data": {
            "text/plain": [
              "tensor([[[[ 30.,  48.,  66.,  84., 102., 120.],\n",
              "          [ 30.,  48.,  66.,  84., 102., 120.],\n",
              "          [ 30.,  48.,  66.,  84., 102., 120.],\n",
              "          [ 30.,  48.,  66.,  84., 102., 120.],\n",
              "          [ 30.,  48.,  66.,  84., 102., 120.],\n",
              "          [ 30.,  48.,  66.,  84., 102., 120.]]]],\n",
              "       grad_fn=<ConvolutionBackward0>)"
            ]
          },
          "metadata": {},
          "execution_count": 4
        }
      ]
    },
    {
      "cell_type": "code",
      "source": [
        "# 法2"
      ],
      "metadata": {
        "id": "DqwOcXog7n77"
      },
      "execution_count": null,
      "outputs": []
    },
    {
      "cell_type": "code",
      "source": [
        "unfold2 = torch.nn.Unfold(kernel_size=3, padding=0, stride=1)\n",
        "I_unfold = unfold2(I)\n",
        "I_unfold"
      ],
      "metadata": {
        "colab": {
          "base_uri": "https://localhost:8080/"
        },
        "id": "T-4Zh-P3tfW2",
        "outputId": "21244ee5-c58b-4844-f50f-bd082d2d03ba"
      },
      "execution_count": null,
      "outputs": [
        {
          "output_type": "execute_result",
          "data": {
            "text/plain": [
              "tensor([[[0., 1., 2., 3., 4., 5., 0., 1., 2., 3., 4., 5., 0., 1., 2., 3., 4.,\n",
              "          5., 0., 1., 2., 3., 4., 5., 0., 1., 2., 3., 4., 5., 0., 1., 2., 3.,\n",
              "          4., 5.],\n",
              "         [1., 2., 3., 4., 5., 6., 1., 2., 3., 4., 5., 6., 1., 2., 3., 4., 5.,\n",
              "          6., 1., 2., 3., 4., 5., 6., 1., 2., 3., 4., 5., 6., 1., 2., 3., 4.,\n",
              "          5., 6.],\n",
              "         [2., 3., 4., 5., 6., 7., 2., 3., 4., 5., 6., 7., 2., 3., 4., 5., 6.,\n",
              "          7., 2., 3., 4., 5., 6., 7., 2., 3., 4., 5., 6., 7., 2., 3., 4., 5.,\n",
              "          6., 7.],\n",
              "         [0., 1., 2., 3., 4., 5., 0., 1., 2., 3., 4., 5., 0., 1., 2., 3., 4.,\n",
              "          5., 0., 1., 2., 3., 4., 5., 0., 1., 2., 3., 4., 5., 0., 1., 2., 3.,\n",
              "          4., 5.],\n",
              "         [1., 2., 3., 4., 5., 6., 1., 2., 3., 4., 5., 6., 1., 2., 3., 4., 5.,\n",
              "          6., 1., 2., 3., 4., 5., 6., 1., 2., 3., 4., 5., 6., 1., 2., 3., 4.,\n",
              "          5., 6.],\n",
              "         [2., 3., 4., 5., 6., 7., 2., 3., 4., 5., 6., 7., 2., 3., 4., 5., 6.,\n",
              "          7., 2., 3., 4., 5., 6., 7., 2., 3., 4., 5., 6., 7., 2., 3., 4., 5.,\n",
              "          6., 7.],\n",
              "         [0., 1., 2., 3., 4., 5., 0., 1., 2., 3., 4., 5., 0., 1., 2., 3., 4.,\n",
              "          5., 0., 1., 2., 3., 4., 5., 0., 1., 2., 3., 4., 5., 0., 1., 2., 3.,\n",
              "          4., 5.],\n",
              "         [1., 2., 3., 4., 5., 6., 1., 2., 3., 4., 5., 6., 1., 2., 3., 4., 5.,\n",
              "          6., 1., 2., 3., 4., 5., 6., 1., 2., 3., 4., 5., 6., 1., 2., 3., 4.,\n",
              "          5., 6.],\n",
              "         [2., 3., 4., 5., 6., 7., 2., 3., 4., 5., 6., 7., 2., 3., 4., 5., 6.,\n",
              "          7., 2., 3., 4., 5., 6., 7., 2., 3., 4., 5., 6., 7., 2., 3., 4., 5.,\n",
              "          6., 7.],\n",
              "         [0., 1., 2., 3., 4., 5., 0., 1., 2., 3., 4., 5., 0., 1., 2., 3., 4.,\n",
              "          5., 0., 1., 2., 3., 4., 5., 0., 1., 2., 3., 4., 5., 0., 1., 2., 3.,\n",
              "          4., 5.],\n",
              "         [1., 2., 3., 4., 5., 6., 1., 2., 3., 4., 5., 6., 1., 2., 3., 4., 5.,\n",
              "          6., 1., 2., 3., 4., 5., 6., 1., 2., 3., 4., 5., 6., 1., 2., 3., 4.,\n",
              "          5., 6.],\n",
              "         [2., 3., 4., 5., 6., 7., 2., 3., 4., 5., 6., 7., 2., 3., 4., 5., 6.,\n",
              "          7., 2., 3., 4., 5., 6., 7., 2., 3., 4., 5., 6., 7., 2., 3., 4., 5.,\n",
              "          6., 7.],\n",
              "         [0., 1., 2., 3., 4., 5., 0., 1., 2., 3., 4., 5., 0., 1., 2., 3., 4.,\n",
              "          5., 0., 1., 2., 3., 4., 5., 0., 1., 2., 3., 4., 5., 0., 1., 2., 3.,\n",
              "          4., 5.],\n",
              "         [1., 2., 3., 4., 5., 6., 1., 2., 3., 4., 5., 6., 1., 2., 3., 4., 5.,\n",
              "          6., 1., 2., 3., 4., 5., 6., 1., 2., 3., 4., 5., 6., 1., 2., 3., 4.,\n",
              "          5., 6.],\n",
              "         [2., 3., 4., 5., 6., 7., 2., 3., 4., 5., 6., 7., 2., 3., 4., 5., 6.,\n",
              "          7., 2., 3., 4., 5., 6., 7., 2., 3., 4., 5., 6., 7., 2., 3., 4., 5.,\n",
              "          6., 7.],\n",
              "         [0., 1., 2., 3., 4., 5., 0., 1., 2., 3., 4., 5., 0., 1., 2., 3., 4.,\n",
              "          5., 0., 1., 2., 3., 4., 5., 0., 1., 2., 3., 4., 5., 0., 1., 2., 3.,\n",
              "          4., 5.],\n",
              "         [1., 2., 3., 4., 5., 6., 1., 2., 3., 4., 5., 6., 1., 2., 3., 4., 5.,\n",
              "          6., 1., 2., 3., 4., 5., 6., 1., 2., 3., 4., 5., 6., 1., 2., 3., 4.,\n",
              "          5., 6.],\n",
              "         [2., 3., 4., 5., 6., 7., 2., 3., 4., 5., 6., 7., 2., 3., 4., 5., 6.,\n",
              "          7., 2., 3., 4., 5., 6., 7., 2., 3., 4., 5., 6., 7., 2., 3., 4., 5.,\n",
              "          6., 7.]]])"
            ]
          },
          "metadata": {},
          "execution_count": 5
        }
      ]
    },
    {
      "cell_type": "code",
      "source": [
        "I_unfold.shape"
      ],
      "metadata": {
        "colab": {
          "base_uri": "https://localhost:8080/"
        },
        "id": "QOWYeo4rqvdw",
        "outputId": "c208aef4-7222-4260-ac3c-4ceee482afab"
      },
      "execution_count": null,
      "outputs": [
        {
          "output_type": "execute_result",
          "data": {
            "text/plain": [
              "torch.Size([1, 18, 36])"
            ]
          },
          "metadata": {},
          "execution_count": 13
        }
      ]
    },
    {
      "cell_type": "code",
      "source": [
        "K_unfold = unfold2(K).transpose(2, 1)\n",
        "K_unfold"
      ],
      "metadata": {
        "colab": {
          "base_uri": "https://localhost:8080/"
        },
        "id": "OKmuLkDWtnCL",
        "outputId": "22423496-d7e6-405d-a74b-10d2babfa03b"
      },
      "execution_count": null,
      "outputs": [
        {
          "output_type": "execute_result",
          "data": {
            "text/plain": [
              "tensor([[[0., 1., 2., 0., 1., 2., 0., 1., 2., 0., 1., 2., 0., 1., 2., 0., 1.,\n",
              "          2.]]])"
            ]
          },
          "metadata": {},
          "execution_count": 8
        }
      ]
    },
    {
      "cell_type": "code",
      "source": [
        "K_unfold.shape"
      ],
      "metadata": {
        "id": "uQQN0XlLq1qQ",
        "outputId": "ed88ccab-b211-4ca0-f3cd-66315af42287",
        "colab": {
          "base_uri": "https://localhost:8080/"
        }
      },
      "execution_count": null,
      "outputs": [
        {
          "output_type": "execute_result",
          "data": {
            "text/plain": [
              "torch.Size([1, 1, 18])"
            ]
          },
          "metadata": {},
          "execution_count": 14
        }
      ]
    },
    {
      "cell_type": "code",
      "source": [
        "result_conv2d_matmul = torch.matmul(K_unfold, I_unfold)\n",
        "result_conv2d_matmul"
      ],
      "metadata": {
        "colab": {
          "base_uri": "https://localhost:8080/"
        },
        "id": "UHU9unHrnON9",
        "outputId": "0c91b1ec-a3ab-42b2-e992-af9c97871c91"
      },
      "execution_count": null,
      "outputs": [
        {
          "output_type": "execute_result",
          "data": {
            "text/plain": [
              "tensor([[[ 30.,  48.,  66.,  84., 102., 120.,  30.,  48.,  66.,  84., 102.,\n",
              "          120.,  30.,  48.,  66.,  84., 102., 120.,  30.,  48.,  66.,  84.,\n",
              "          102., 120.,  30.,  48.,  66.,  84., 102., 120.,  30.,  48.,  66.,\n",
              "           84., 102., 120.]]])"
            ]
          },
          "metadata": {},
          "execution_count": 9
        }
      ]
    },
    {
      "cell_type": "code",
      "source": [
        "result_conv2d_matmul = result_conv2d_matmul.view(-1, conv.out_channels, 6, 6)\n",
        "result_conv2d_matmul"
      ],
      "metadata": {
        "colab": {
          "base_uri": "https://localhost:8080/"
        },
        "id": "vxhpV6JHnPk9",
        "outputId": "26b94afd-abae-4a73-a6c5-73a9396640d0"
      },
      "execution_count": null,
      "outputs": [
        {
          "output_type": "execute_result",
          "data": {
            "text/plain": [
              "tensor([[[[ 30.,  48.,  66.,  84., 102., 120.],\n",
              "          [ 30.,  48.,  66.,  84., 102., 120.],\n",
              "          [ 30.,  48.,  66.,  84., 102., 120.],\n",
              "          [ 30.,  48.,  66.,  84., 102., 120.],\n",
              "          [ 30.,  48.,  66.,  84., 102., 120.],\n",
              "          [ 30.,  48.,  66.,  84., 102., 120.]]]])"
            ]
          },
          "metadata": {},
          "execution_count": 11
        }
      ]
    }
  ]
}